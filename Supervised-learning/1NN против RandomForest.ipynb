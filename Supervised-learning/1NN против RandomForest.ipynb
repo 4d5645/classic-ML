{
 "cells": [
  {
   "cell_type": "code",
   "execution_count": 165,
   "id": "dde774b2",
   "metadata": {},
   "outputs": [],
   "source": [
    "from sklearn import datasets"
   ]
  },
  {
   "cell_type": "code",
   "execution_count": 166,
   "id": "08ba363c",
   "metadata": {},
   "outputs": [],
   "source": [
    "digits = datasets.load_digits()"
   ]
  },
  {
   "cell_type": "code",
   "execution_count": 167,
   "id": "7cc99cd9",
   "metadata": {},
   "outputs": [],
   "source": [
    "from sklearn import model_selection"
   ]
  },
  {
   "cell_type": "code",
   "execution_count": 168,
   "id": "4f066728",
   "metadata": {},
   "outputs": [],
   "source": [
    "X = digits.data\n",
    "y = digits.target"
   ]
  },
  {
   "cell_type": "code",
   "execution_count": 169,
   "id": "2e115811",
   "metadata": {},
   "outputs": [],
   "source": [
    "X_train, X_test, y_train, y_test = model_selection.train_test_split(X, y, test_size=0.25, shuffle=False)"
   ]
  },
  {
   "cell_type": "code",
   "execution_count": 170,
   "id": "291ccf9d",
   "metadata": {},
   "outputs": [],
   "source": [
    "import numpy as np"
   ]
  },
  {
   "cell_type": "code",
   "execution_count": 171,
   "id": "a1664437",
   "metadata": {},
   "outputs": [],
   "source": [
    "def euclidian_metric(x, y):\n",
    "    return np.sqrt( np.sum((x - y)**2) )"
   ]
  },
  {
   "cell_type": "code",
   "execution_count": 172,
   "id": "21fb51b9",
   "metadata": {},
   "outputs": [],
   "source": [
    "from sklearn.neighbors import KNeighborsClassifier"
   ]
  },
  {
   "cell_type": "code",
   "execution_count": 173,
   "id": "79b0df96",
   "metadata": {},
   "outputs": [],
   "source": [
    "y_pred_knn = []\n",
    "for test_value in X_test:\n",
    "    ind_min_metric = 0\n",
    "    min_metric = euclidian_metric(test_value, X_train[0])\n",
    "    \n",
    "    for index, train_value in enumerate(X_train):\n",
    "        metric = euclidian_metric(test_value, train_value)\n",
    "        if metric < min_metric:\n",
    "            min_metric = metric\n",
    "            ind_min_metric = index\n",
    "            \n",
    "    y_pred_knn.append(y_train[ind_min_metric])"
   ]
  },
  {
   "cell_type": "code",
   "execution_count": 174,
   "id": "7cddbffb",
   "metadata": {},
   "outputs": [],
   "source": [
    "from sklearn.metrics import accuracy_score"
   ]
  },
  {
   "cell_type": "code",
   "execution_count": 175,
   "id": "b5f6bdba",
   "metadata": {},
   "outputs": [
    {
     "name": "stdout",
     "output_type": "stream",
     "text": [
      "1nn classifier error: 0.0377777777777778\n"
     ]
    }
   ],
   "source": [
    "knn_err_rate = 1 - accuracy_score(y_test, y_pred_knn)\n",
    "print('1nn classifier error: ' + str(knn_err_rate))"
   ]
  },
  {
   "cell_type": "code",
   "execution_count": 176,
   "id": "2b9a0d23",
   "metadata": {},
   "outputs": [],
   "source": [
    "from sklearn.ensemble import RandomForestClassifier"
   ]
  },
  {
   "cell_type": "code",
   "execution_count": 177,
   "id": "bb9c59dc",
   "metadata": {},
   "outputs": [],
   "source": [
    "rf = RandomForestClassifier(n_estimators=1000)\n",
    "rf.fit(X_train, y_train)\n",
    "pred = rf.predict(X_test)"
   ]
  },
  {
   "cell_type": "code",
   "execution_count": 178,
   "id": "c2f481d7",
   "metadata": {},
   "outputs": [
    {
     "name": "stdout",
     "output_type": "stream",
     "text": [
      "rf classifier error: 0.06888888888888889\n"
     ]
    }
   ],
   "source": [
    "rf_err_rate = 1 - accuracy_score(y_test, pred)\n",
    "print('rf classifier error: ' + str(rf_err_rate))"
   ]
  },
  {
   "cell_type": "code",
   "execution_count": null,
   "id": "b95aa41b",
   "metadata": {},
   "outputs": [],
   "source": []
  }
 ],
 "metadata": {
  "kernelspec": {
   "display_name": "Python 3 (ipykernel)",
   "language": "python",
   "name": "python3"
  },
  "language_info": {
   "codemirror_mode": {
    "name": "ipython",
    "version": 3
   },
   "file_extension": ".py",
   "mimetype": "text/x-python",
   "name": "python",
   "nbconvert_exporter": "python",
   "pygments_lexer": "ipython3",
   "version": "3.10.1"
  }
 },
 "nbformat": 4,
 "nbformat_minor": 5
}
