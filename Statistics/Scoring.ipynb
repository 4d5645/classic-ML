{
  "nbformat": 4,
  "nbformat_minor": 0,
  "metadata": {
    "colab": {
      "name": "Scoring.ipynb",
      "provenance": [],
      "collapsed_sections": [],
      "authorship_tag": "ABX9TyOiWlTfxioq/nOhrzyyqafD",
      "include_colab_link": true
    },
    "kernelspec": {
      "name": "python3",
      "display_name": "Python 3"
    },
    "language_info": {
      "name": "python"
    }
  },
  "cells": [
    {
      "cell_type": "markdown",
      "metadata": {
        "id": "view-in-github",
        "colab_type": "text"
      },
      "source": [
        "<a href=\"https://colab.research.google.com/github/4d5645/StatsForDataAnalysis_MIPT/blob/main/Scoring.ipynb\" target=\"_parent\"><img src=\"https://colab.research.google.com/assets/colab-badge.svg\" alt=\"Open In Colab\"/></a>"
      ]
    },
    {
      "cell_type": "markdown",
      "source": [
        "# Data analysis in the problem of credit scoring"
      ],
      "metadata": {
        "id": "nyYT-FDQ5lbP"
      }
    },
    {
      "cell_type": "code",
      "execution_count": 19,
      "metadata": {
        "colab": {
          "base_uri": "https://localhost:8080/"
        },
        "id": "Q-8CRjQW8U0G",
        "outputId": "0c39cece-2a42-47d8-d5e6-3fbb187e646c"
      },
      "outputs": [
        {
          "output_type": "stream",
          "name": "stdout",
          "text": [
            "Populating the interactive namespace from numpy and matplotlib\n"
          ]
        }
      ],
      "source": [
        "%pylab inline\n",
        "import pandas as pd\n",
        "import numpy as np\n",
        "import scipy\n",
        "import math\n",
        "import statsmodels\n",
        "from scipy import stats\n",
        "import matplotlib.pyplot as plt\n",
        "import warnings\n",
        "from itertools import product\n",
        "from statsmodels.sandbox.stats.multicomp import multipletests\n",
        "warnings.filterwarnings('ignore')"
      ]
    },
    {
      "cell_type": "code",
      "source": [
        "from google.colab import drive\n",
        "drive.mount('/content/gdrive')\n",
        "data = pd.read_csv('/content/gdrive/MyDrive/Colab Notebooks/MIPT/credit_card_default_analysis.csv')"
      ],
      "metadata": {
        "colab": {
          "base_uri": "https://localhost:8080/"
        },
        "id": "6AyxXB6L8i8-",
        "outputId": "04adaa7d-f4ea-4a7b-c6fc-792944b09f4e"
      },
      "execution_count": 20,
      "outputs": [
        {
          "output_type": "stream",
          "name": "stdout",
          "text": [
            "Drive already mounted at /content/gdrive; to attempt to forcibly remount, call drive.mount(\"/content/gdrive\", force_remount=True).\n"
          ]
        }
      ]
    },
    {
      "cell_type": "markdown",
      "source": [
        "- LIMIT_BAL: the size of the credit limit (including for the client's family)\n",
        "- GENDER: customer gender (1 = male, 2 = female)\n",
        "- EDUCATION: Education (0=Doctor, 1=Master; 2=Bachelor; 3=High School Graduate; 4=Primary Education; 5=Other; 6=N/A).\n",
        "- MARRIAGE: (0=withhold consent; 1=married/married; 2=single; 3=not available).\n",
        "- AGE: age\n",
        "- PAY_0 - PAY_6 : History of past loan payments. PAY_6 - payment in September, ... Pay_0 - payment in September. Payment = (0 = good payment, 1=one month late, 2=2 months late...)\n",
        "- BILL_AMT1 - BILL_AMT6: debt, BILL_AMT6 - for April, BILL_AMT1 - for September\n",
        "- PAY_AMT1 - PAY_AMT6: amount paid in PAY_AMT6 - earlier, ..., PAY_AMT1 - September\n",
        "- by default - non-refund indicator"
      ],
      "metadata": {
        "id": "ily3h9_r9bE-"
      }
    },
    {
      "cell_type": "code",
      "source": [
        "data.head()"
      ],
      "metadata": {
        "colab": {
          "base_uri": "https://localhost:8080/",
          "height": 299
        },
        "id": "NUqLAIEA8rhJ",
        "outputId": "8ae2ba5f-3424-409c-a1cc-97536f893915"
      },
      "execution_count": 21,
      "outputs": [
        {
          "output_type": "execute_result",
          "data": {
            "text/plain": [
              "   ID  LIMIT_BAL  SEX  EDUCATION  MARRIAGE  AGE  PAY_0  PAY_2  PAY_3  PAY_4  \\\n",
              "0   1      20000    2          2         1   24      2      2      0      0   \n",
              "1   2     120000    2          2         2   26      0      2      0      0   \n",
              "2   3      90000    2          2         2   34      0      0      0      0   \n",
              "3   4      50000    2          2         1   37      0      0      0      0   \n",
              "4   5      50000    1          2         1   57      0      0      0      0   \n",
              "\n",
              "   ...  BILL_AMT4  BILL_AMT5  BILL_AMT6  PAY_AMT1  PAY_AMT2  PAY_AMT3  \\\n",
              "0  ...          0          0          0         0       689         0   \n",
              "1  ...       3272       3455       3261         0      1000      1000   \n",
              "2  ...      14331      14948      15549      1518      1500      1000   \n",
              "3  ...      28314      28959      29547      2000      2019      1200   \n",
              "4  ...      20940      19146      19131      2000     36681     10000   \n",
              "\n",
              "   PAY_AMT4  PAY_AMT5  PAY_AMT6  default  \n",
              "0         0         0         0        1  \n",
              "1      1000         0      2000        1  \n",
              "2      1000      1000      5000        0  \n",
              "3      1100      1069      1000        0  \n",
              "4      9000       689       679        0  \n",
              "\n",
              "[5 rows x 25 columns]"
            ],
            "text/html": [
              "\n",
              "  <div id=\"df-9a9db32f-7fac-4f99-b0da-371939e48601\">\n",
              "    <div class=\"colab-df-container\">\n",
              "      <div>\n",
              "<style scoped>\n",
              "    .dataframe tbody tr th:only-of-type {\n",
              "        vertical-align: middle;\n",
              "    }\n",
              "\n",
              "    .dataframe tbody tr th {\n",
              "        vertical-align: top;\n",
              "    }\n",
              "\n",
              "    .dataframe thead th {\n",
              "        text-align: right;\n",
              "    }\n",
              "</style>\n",
              "<table border=\"1\" class=\"dataframe\">\n",
              "  <thead>\n",
              "    <tr style=\"text-align: right;\">\n",
              "      <th></th>\n",
              "      <th>ID</th>\n",
              "      <th>LIMIT_BAL</th>\n",
              "      <th>SEX</th>\n",
              "      <th>EDUCATION</th>\n",
              "      <th>MARRIAGE</th>\n",
              "      <th>AGE</th>\n",
              "      <th>PAY_0</th>\n",
              "      <th>PAY_2</th>\n",
              "      <th>PAY_3</th>\n",
              "      <th>PAY_4</th>\n",
              "      <th>...</th>\n",
              "      <th>BILL_AMT4</th>\n",
              "      <th>BILL_AMT5</th>\n",
              "      <th>BILL_AMT6</th>\n",
              "      <th>PAY_AMT1</th>\n",
              "      <th>PAY_AMT2</th>\n",
              "      <th>PAY_AMT3</th>\n",
              "      <th>PAY_AMT4</th>\n",
              "      <th>PAY_AMT5</th>\n",
              "      <th>PAY_AMT6</th>\n",
              "      <th>default</th>\n",
              "    </tr>\n",
              "  </thead>\n",
              "  <tbody>\n",
              "    <tr>\n",
              "      <th>0</th>\n",
              "      <td>1</td>\n",
              "      <td>20000</td>\n",
              "      <td>2</td>\n",
              "      <td>2</td>\n",
              "      <td>1</td>\n",
              "      <td>24</td>\n",
              "      <td>2</td>\n",
              "      <td>2</td>\n",
              "      <td>0</td>\n",
              "      <td>0</td>\n",
              "      <td>...</td>\n",
              "      <td>0</td>\n",
              "      <td>0</td>\n",
              "      <td>0</td>\n",
              "      <td>0</td>\n",
              "      <td>689</td>\n",
              "      <td>0</td>\n",
              "      <td>0</td>\n",
              "      <td>0</td>\n",
              "      <td>0</td>\n",
              "      <td>1</td>\n",
              "    </tr>\n",
              "    <tr>\n",
              "      <th>1</th>\n",
              "      <td>2</td>\n",
              "      <td>120000</td>\n",
              "      <td>2</td>\n",
              "      <td>2</td>\n",
              "      <td>2</td>\n",
              "      <td>26</td>\n",
              "      <td>0</td>\n",
              "      <td>2</td>\n",
              "      <td>0</td>\n",
              "      <td>0</td>\n",
              "      <td>...</td>\n",
              "      <td>3272</td>\n",
              "      <td>3455</td>\n",
              "      <td>3261</td>\n",
              "      <td>0</td>\n",
              "      <td>1000</td>\n",
              "      <td>1000</td>\n",
              "      <td>1000</td>\n",
              "      <td>0</td>\n",
              "      <td>2000</td>\n",
              "      <td>1</td>\n",
              "    </tr>\n",
              "    <tr>\n",
              "      <th>2</th>\n",
              "      <td>3</td>\n",
              "      <td>90000</td>\n",
              "      <td>2</td>\n",
              "      <td>2</td>\n",
              "      <td>2</td>\n",
              "      <td>34</td>\n",
              "      <td>0</td>\n",
              "      <td>0</td>\n",
              "      <td>0</td>\n",
              "      <td>0</td>\n",
              "      <td>...</td>\n",
              "      <td>14331</td>\n",
              "      <td>14948</td>\n",
              "      <td>15549</td>\n",
              "      <td>1518</td>\n",
              "      <td>1500</td>\n",
              "      <td>1000</td>\n",
              "      <td>1000</td>\n",
              "      <td>1000</td>\n",
              "      <td>5000</td>\n",
              "      <td>0</td>\n",
              "    </tr>\n",
              "    <tr>\n",
              "      <th>3</th>\n",
              "      <td>4</td>\n",
              "      <td>50000</td>\n",
              "      <td>2</td>\n",
              "      <td>2</td>\n",
              "      <td>1</td>\n",
              "      <td>37</td>\n",
              "      <td>0</td>\n",
              "      <td>0</td>\n",
              "      <td>0</td>\n",
              "      <td>0</td>\n",
              "      <td>...</td>\n",
              "      <td>28314</td>\n",
              "      <td>28959</td>\n",
              "      <td>29547</td>\n",
              "      <td>2000</td>\n",
              "      <td>2019</td>\n",
              "      <td>1200</td>\n",
              "      <td>1100</td>\n",
              "      <td>1069</td>\n",
              "      <td>1000</td>\n",
              "      <td>0</td>\n",
              "    </tr>\n",
              "    <tr>\n",
              "      <th>4</th>\n",
              "      <td>5</td>\n",
              "      <td>50000</td>\n",
              "      <td>1</td>\n",
              "      <td>2</td>\n",
              "      <td>1</td>\n",
              "      <td>57</td>\n",
              "      <td>0</td>\n",
              "      <td>0</td>\n",
              "      <td>0</td>\n",
              "      <td>0</td>\n",
              "      <td>...</td>\n",
              "      <td>20940</td>\n",
              "      <td>19146</td>\n",
              "      <td>19131</td>\n",
              "      <td>2000</td>\n",
              "      <td>36681</td>\n",
              "      <td>10000</td>\n",
              "      <td>9000</td>\n",
              "      <td>689</td>\n",
              "      <td>679</td>\n",
              "      <td>0</td>\n",
              "    </tr>\n",
              "  </tbody>\n",
              "</table>\n",
              "<p>5 rows × 25 columns</p>\n",
              "</div>\n",
              "      <button class=\"colab-df-convert\" onclick=\"convertToInteractive('df-9a9db32f-7fac-4f99-b0da-371939e48601')\"\n",
              "              title=\"Convert this dataframe to an interactive table.\"\n",
              "              style=\"display:none;\">\n",
              "        \n",
              "  <svg xmlns=\"http://www.w3.org/2000/svg\" height=\"24px\"viewBox=\"0 0 24 24\"\n",
              "       width=\"24px\">\n",
              "    <path d=\"M0 0h24v24H0V0z\" fill=\"none\"/>\n",
              "    <path d=\"M18.56 5.44l.94 2.06.94-2.06 2.06-.94-2.06-.94-.94-2.06-.94 2.06-2.06.94zm-11 1L8.5 8.5l.94-2.06 2.06-.94-2.06-.94L8.5 2.5l-.94 2.06-2.06.94zm10 10l.94 2.06.94-2.06 2.06-.94-2.06-.94-.94-2.06-.94 2.06-2.06.94z\"/><path d=\"M17.41 7.96l-1.37-1.37c-.4-.4-.92-.59-1.43-.59-.52 0-1.04.2-1.43.59L10.3 9.45l-7.72 7.72c-.78.78-.78 2.05 0 2.83L4 21.41c.39.39.9.59 1.41.59.51 0 1.02-.2 1.41-.59l7.78-7.78 2.81-2.81c.8-.78.8-2.07 0-2.86zM5.41 20L4 18.59l7.72-7.72 1.47 1.35L5.41 20z\"/>\n",
              "  </svg>\n",
              "      </button>\n",
              "      \n",
              "  <style>\n",
              "    .colab-df-container {\n",
              "      display:flex;\n",
              "      flex-wrap:wrap;\n",
              "      gap: 12px;\n",
              "    }\n",
              "\n",
              "    .colab-df-convert {\n",
              "      background-color: #E8F0FE;\n",
              "      border: none;\n",
              "      border-radius: 50%;\n",
              "      cursor: pointer;\n",
              "      display: none;\n",
              "      fill: #1967D2;\n",
              "      height: 32px;\n",
              "      padding: 0 0 0 0;\n",
              "      width: 32px;\n",
              "    }\n",
              "\n",
              "    .colab-df-convert:hover {\n",
              "      background-color: #E2EBFA;\n",
              "      box-shadow: 0px 1px 2px rgba(60, 64, 67, 0.3), 0px 1px 3px 1px rgba(60, 64, 67, 0.15);\n",
              "      fill: #174EA6;\n",
              "    }\n",
              "\n",
              "    [theme=dark] .colab-df-convert {\n",
              "      background-color: #3B4455;\n",
              "      fill: #D2E3FC;\n",
              "    }\n",
              "\n",
              "    [theme=dark] .colab-df-convert:hover {\n",
              "      background-color: #434B5C;\n",
              "      box-shadow: 0px 1px 3px 1px rgba(0, 0, 0, 0.15);\n",
              "      filter: drop-shadow(0px 1px 2px rgba(0, 0, 0, 0.3));\n",
              "      fill: #FFFFFF;\n",
              "    }\n",
              "  </style>\n",
              "\n",
              "      <script>\n",
              "        const buttonEl =\n",
              "          document.querySelector('#df-9a9db32f-7fac-4f99-b0da-371939e48601 button.colab-df-convert');\n",
              "        buttonEl.style.display =\n",
              "          google.colab.kernel.accessAllowed ? 'block' : 'none';\n",
              "\n",
              "        async function convertToInteractive(key) {\n",
              "          const element = document.querySelector('#df-9a9db32f-7fac-4f99-b0da-371939e48601');\n",
              "          const dataTable =\n",
              "            await google.colab.kernel.invokeFunction('convertToInteractive',\n",
              "                                                     [key], {});\n",
              "          if (!dataTable) return;\n",
              "\n",
              "          const docLinkHtml = 'Like what you see? Visit the ' +\n",
              "            '<a target=\"_blank\" href=https://colab.research.google.com/notebooks/data_table.ipynb>data table notebook</a>'\n",
              "            + ' to learn more about interactive tables.';\n",
              "          element.innerHTML = '';\n",
              "          dataTable['output_type'] = 'display_data';\n",
              "          await google.colab.output.renderOutput(dataTable, element);\n",
              "          const docLink = document.createElement('div');\n",
              "          docLink.innerHTML = docLinkHtml;\n",
              "          element.appendChild(docLink);\n",
              "        }\n",
              "      </script>\n",
              "    </div>\n",
              "  </div>\n",
              "  "
            ]
          },
          "metadata": {},
          "execution_count": 21
        }
      ]
    },
    {
      "cell_type": "markdown",
      "source": [
        "\n",
        "# Credit limit size (LIMIT_BAL)."
      ],
      "metadata": {
        "id": "19UYK4VUmfWX"
      }
    },
    {
      "cell_type": "markdown",
      "source": [
        " Dividing the dataset into people who returned and did not return the loan."
      ],
      "metadata": {
        "id": "0bETGEYe-ILX"
      }
    },
    {
      "cell_type": "code",
      "source": [
        "rtrn = data[data.default == 0]\n",
        "not_rtrn = data[data.default == 1]"
      ],
      "metadata": {
        "id": "wcplI6iZ9QJ8"
      },
      "execution_count": 22,
      "outputs": []
    },
    {
      "cell_type": "code",
      "source": [
        "#SEX distribution\n",
        "plt.figure(figsize=(11,7))\n",
        "plt.subplot(121)\n",
        "plt.title('LIMIT_BAL')\n",
        "plt.hist(data['LIMIT_BAL'], edgecolor='k')\n",
        "plt.subplot(122)\n",
        "plt.title('LIMIT_BAL for default 0 or 1')\n",
        "plt.hist(rtrn.LIMIT_BAL, label='Default = 0', edgecolor='k')\n",
        "plt.hist(not_rtrn.LIMIT_BAL, label='Default = 1', edgecolor='k')\n",
        "plt.legend()"
      ],
      "metadata": {
        "colab": {
          "base_uri": "https://localhost:8080/",
          "height": 475
        },
        "id": "suMzzbTCee5g",
        "outputId": "52eaeff7-c1de-44ad-dccb-b453ff50b2af"
      },
      "execution_count": 23,
      "outputs": [
        {
          "output_type": "execute_result",
          "data": {
            "text/plain": [
              "<matplotlib.legend.Legend at 0x7f4f58756610>"
            ]
          },
          "metadata": {},
          "execution_count": 23
        },
        {
          "output_type": "display_data",
          "data": {
            "text/plain": [
              "<Figure size 792x504 with 2 Axes>"
            ],
            "image/png": "[encoded data removed]"
          },
          "metadata": {
            "needs_background": "light"
          }
        }
      ]
    },
    {
      "cell_type": "markdown",
      "source": [
        "### Let's test the hypothesis about the equality of the median values ​​of the credit limit using a suitable interval estimate\n",
        "\n",
        "H0: median values ​​are equal\n",
        "\n",
        "H1: median values ​​are different"
      ],
      "metadata": {
        "id": "D4tZ9XNf_2Iz"
      }
    },
    {
      "cell_type": "code",
      "source": [
        "plt.figure(figsize=(12,8))\n",
        "plt.subplot(2,2,1)\n",
        "stats.probplot(rtrn.LIMIT_BAL, dist=\"norm\", plot=plt)\n",
        "plt.subplot(2,2,2)\n",
        "stats.probplot(not_rtrn.LIMIT_BAL, dist=\"norm\", plot=plt)\n",
        "plt.show()"
      ],
      "metadata": {
        "colab": {
          "base_uri": "https://localhost:8080/",
          "height": 276
        },
        "id": "RVr6u_CBQHjy",
        "outputId": "737cabb9-80d0-4d07-ad8d-23979211ba6b"
      },
      "execution_count": 24,
      "outputs": [
        {
          "output_type": "display_data",
          "data": {
            "text/plain": [
              "<Figure size 864x576 with 2 Axes>"
            ],
            "image/png": "[encoded data removed]"
          },
          "metadata": {
            "needs_background": "light"
          }
        }
      ]
    },
    {
      "cell_type": "markdown",
      "source": [
        "Distribution is different from normal."
      ],
      "metadata": {
        "id": "KFtFu82pQmwn"
      }
    },
    {
      "cell_type": "code",
      "source": [
        "# point estimate of the medians\n",
        "print(f'For those who returned: {rtrn.LIMIT_BAL.median()}')\n",
        "print(f'For those who did not return: {not_rtrn.LIMIT_BAL.median()}')"
      ],
      "metadata": {
        "colab": {
          "base_uri": "https://localhost:8080/"
        },
        "id": "aCFFavcH-gMR",
        "outputId": "4c01ea99-eba5-4eb8-aa4a-55ae746097ba"
      },
      "execution_count": 25,
      "outputs": [
        {
          "output_type": "stream",
          "name": "stdout",
          "text": [
            "For those who returned: 150000.0\n",
            "For those who did not return: 90000.0\n"
          ]
        }
      ]
    },
    {
      "cell_type": "code",
      "source": [
        "# bootstrap estimate of the medians\n",
        "def get_bootstrap_samples(data, n_samples):\n",
        "  indices = np.random.randint(0, len(data), (n_samples, len(data)))\n",
        "  samples = data[indices]\n",
        "  return samples\n",
        "\n",
        "def stat_intervals(stat, alpha):\n",
        "  boundaries = np.percentile(stat, [100 * alpha / 2., 100 *(1 - alpha / 2.)])\n",
        "  return boundaries\n",
        "\n",
        "np.random.seed(0)\n",
        "rtrn_median_scores = np.array(list(map(np.median, get_bootstrap_samples(rtrn.LIMIT_BAL.to_numpy(), 1000))))\n",
        "not_rtrn_median_scores = np.array(list(map(np.median, get_bootstrap_samples(not_rtrn.LIMIT_BAL.to_numpy(), 1000))))\n",
        "print('95% confidence interval for those who returned', stat_intervals(rtrn_median_scores, 0.05))\n",
        "print('95% confidence interval for those who did not return', stat_intervals(not_rtrn_median_scores, 0.05))"
      ],
      "metadata": {
        "colab": {
          "base_uri": "https://localhost:8080/"
        },
        "id": "A4UYsv8KHIr1",
        "outputId": "97bc9ecb-9804-4fe9-8b09-9e21c3825f49"
      },
      "execution_count": 26,
      "outputs": [
        {
          "output_type": "stream",
          "name": "stdout",
          "text": [
            "95% confidence interval for those who returned [150000. 150000.]\n",
            "95% confidence interval for those who did not return [80000. 90000.]\n"
          ]
        }
      ]
    },
    {
      "cell_type": "markdown",
      "source": [
        "Median values ​​differ significantly. Confidence intervals do not overlap.\n",
        "### Let's test the hypothesis of equality of distributions using one of the appropriate nonparametric criteria for checking the equality of means\n"
      ],
      "metadata": {
        "id": "-Jl0msFHXSAs"
      }
    },
    {
      "cell_type": "markdown",
      "source": [
        "\n",
        "H0: sample distributions are completely equal\n",
        "\n",
        "H1: sample distributions differ by the amount of shift"
      ],
      "metadata": {
        "id": "Z6Ihw0MqbaGq"
      }
    },
    {
      "cell_type": "code",
      "source": [
        "# the Mann-Whitney Rank Test\n",
        "stats.mannwhitneyu(rtrn.LIMIT_BAL, not_rtrn.LIMIT_BAL)"
      ],
      "metadata": {
        "colab": {
          "base_uri": "https://localhost:8080/"
        },
        "id": "hpMPUV5ZUDhO",
        "outputId": "c346f383-1ee4-4414-d27f-33b773a62fa2"
      },
      "execution_count": 27,
      "outputs": [
        {
          "output_type": "execute_result",
          "data": {
            "text/plain": [
              "MannwhitneyuResult(statistic=59257217.5, pvalue=6.127742909111652e-190)"
            ]
          },
          "metadata": {},
          "execution_count": 27
        }
      ]
    },
    {
      "cell_type": "markdown",
      "source": [
        "P-value is very small, the null hypothesis is strongly rejected.\n",
        "\n",
        "The result is practically significant, as the model will see the relationship between the median value and credit history."
      ],
      "metadata": {
        "id": "hTciqJN3b6Ba"
      }
    },
    {
      "cell_type": "markdown",
      "source": [
        "# Gender (SEX)"
      ],
      "metadata": {
        "id": "WOxnWGm8mnX3"
      }
    },
    {
      "cell_type": "markdown",
      "source": [
        "### Let's test the hypothesis that the gender composition of the group of people who repaid and did not repay the loan is different"
      ],
      "metadata": {
        "id": "xWqppn3fcpbS"
      }
    },
    {
      "cell_type": "code",
      "source": [
        "women = data[data.SEX == 2]\n",
        "men = data[data.SEX == 1]"
      ],
      "metadata": {
        "id": "Mq-LNK1lbCCJ"
      },
      "execution_count": 28,
      "outputs": []
    },
    {
      "cell_type": "code",
      "source": [
        "#SEX distribution\n",
        "plt.figure(figsize=(11,7))\n",
        "plt.subplot(121)\n",
        "plt.title('SEX')\n",
        "plt.hist(data['SEX'], edgecolor='k')\n",
        "plt.subplot(122)\n",
        "plt.title('SEX for default 0 or 1')\n",
        "plt.hist(rtrn.SEX, label='Default = 0', edgecolor='k')\n",
        "plt.hist(not_rtrn.SEX, label='Default = 1', edgecolor='k')\n",
        "plt.legend()"
      ],
      "metadata": {
        "colab": {
          "base_uri": "https://localhost:8080/",
          "height": 462
        },
        "id": "b--b5p2AdS7a",
        "outputId": "eb629e0d-7a31-4836-f48a-5cd6fb5db89f"
      },
      "execution_count": 29,
      "outputs": [
        {
          "output_type": "execute_result",
          "data": {
            "text/plain": [
              "<matplotlib.legend.Legend at 0x7f4f587ab190>"
            ]
          },
          "metadata": {},
          "execution_count": 29
        },
        {
          "output_type": "display_data",
          "data": {
            "text/plain": [
              "<Figure size 792x504 with 2 Axes>"
            ],
            "image/png": "[encoded data removed]"
          },
          "metadata": {
            "needs_background": "light"
          }
        }
      ]
    },
    {
      "cell_type": "markdown",
      "source": [
        "We can see that women are more likely to default on loans than men.\n",
        "\n",
        "Let's apply Wilson's interval estimation for each value from the graph above."
      ],
      "metadata": {
        "id": "oSGkIdHdeVbJ"
      }
    },
    {
      "cell_type": "code",
      "source": [
        "from statsmodels.stats.proportion import proportion_confint\n",
        "print('95%% confidence interval for men, that did not return loans', proportion_confint(men.default.sum(), men.default.shape[0], method = 'wilson'))\n",
        "print('95%% confidence interval for women, that did not return loans', proportion_confint(women.default.sum(), women.default.shape[0], method = 'wilson'))"
      ],
      "metadata": {
        "colab": {
          "base_uri": "https://localhost:8080/"
        },
        "id": "qqrn-gZ3dp-8",
        "outputId": "68ef3846-448d-499d-ebd4-f363503a1ac5"
      },
      "execution_count": 30,
      "outputs": [
        {
          "output_type": "stream",
          "name": "stdout",
          "text": [
            "95%% confidence interval for men, that did not return loans (0.2340610359763117, 0.24945040997857762)\n",
            "95%% confidence interval for women, that did not return loans (0.20191659085963207, 0.21373296513459847)\n"
          ]
        }
      ]
    },
    {
      "cell_type": "markdown",
      "source": [
        "\n",
        "Confidence intervals do not overlap, it is very likely that the difference is significant in the percentage of repaid loans depending on gender.\n",
        "\n",
        "Let's construct a confidence interval for the difference between two fractions of independent samples.\n",
        "\n"
      ],
      "metadata": {
        "id": "tevA-r7qjUOH"
      }
    },
    {
      "cell_type": "code",
      "source": [
        "def proportions_diff_confint_ind(sample1, sample2, alpha = 0.05):    \n",
        "    z = scipy.stats.norm.ppf(1 - alpha / 2.)\n",
        "    \n",
        "    p1 = float(sum(sample1)) / len(sample1)\n",
        "    p2 = float(sum(sample2)) / len(sample2)\n",
        "    \n",
        "    left_boundary = (p1 - p2) - z * np.sqrt(p1 * (1 - p1)/ len(sample1) + p2 * (1 - p2)/ len(sample2))\n",
        "    right_boundary = (p1 - p2) + z * np.sqrt(p1 * (1 - p1)/ len(sample1) + p2 * (1 - p2)/ len(sample2))\n",
        "    \n",
        "    return (left_boundary, right_boundary)\n",
        "print('95%% confidence interval for a difference between proportions', proportions_diff_confint_ind(men.default, women.default))"
      ],
      "metadata": {
        "colab": {
          "base_uri": "https://localhost:8080/"
        },
        "id": "oUKThyBmhPet",
        "outputId": "e251f4db-13e5-41a0-acb7-4be4918a8393"
      },
      "execution_count": 31,
      "outputs": [
        {
          "output_type": "stream",
          "name": "stdout",
          "text": [
            "95%% confidence interval for a difference between proportions (0.024207372179792706, 0.0436115585708172)\n"
          ]
        }
      ]
    },
    {
      "cell_type": "markdown",
      "source": [
        "\n",
        "The interval is shifted to the right and does not contain zero.\n",
        "\n",
        "Now let's use the statistical Z-test for the proportion for two independent samples.\n",
        "\n",
        "H0: gender composition does not differ\n",
        "\n",
        "H1: gender composition is different"
      ],
      "metadata": {
        "id": "XtPiOvWFkEg-"
      }
    },
    {
      "cell_type": "code",
      "source": [
        "def proportions_diff_z_stat_ind(sample1, sample2):\n",
        "    n1 = len(sample1)\n",
        "    n2 = len(sample2)\n",
        "    \n",
        "    p1 = float(sum(sample1)) / n1\n",
        "    p2 = float(sum(sample2)) / n2 \n",
        "    P = float(p1*n1 + p2*n2) / (n1 + n2)\n",
        "    \n",
        "    return (p1 - p2) / np.sqrt(P * (1 - P) * (1. / n1 + 1. / n2))\n",
        "def proportions_diff_z_test(z_stat, alternative = 'two-sided'):\n",
        "    if alternative not in ('two-sided', 'less', 'greater'):\n",
        "        raise ValueError(\"alternative not recognized\\n\"\n",
        "                         \"should be 'two-sided', 'less' or 'greater'\")\n",
        "    \n",
        "    if alternative == 'two-sided':\n",
        "        return 2 * (1 - scipy.stats.norm.cdf(np.abs(z_stat)))\n",
        "    \n",
        "    if alternative == 'less':\n",
        "        return scipy.stats.norm.cdf(z_stat)\n",
        "\n",
        "    if alternative == 'greater':\n",
        "        return 1 - scipy.stats.norm.cdf(z_stat)\n",
        "\n",
        "print(\"p-value: \", proportions_diff_z_test(proportions_diff_z_stat_ind(men.default, women.default), 'greater'))\n"
      ],
      "metadata": {
        "colab": {
          "base_uri": "https://localhost:8080/"
        },
        "id": "mrvcPtYkjfDP",
        "outputId": "44f2d8e3-e384-45ba-9334-1e5edfd3911f"
      },
      "execution_count": 32,
      "outputs": [
        {
          "output_type": "stream",
          "name": "stdout",
          "text": [
            "p-value:  2.2364332608049153e-12\n"
          ]
        }
      ]
    },
    {
      "cell_type": "markdown",
      "source": [
        "\n",
        "The hypothesis of equality of gender distribution is rejected.\n",
        "\n",
        "The result is practically significant, since it allows the model to learn a new dependence."
      ],
      "metadata": {
        "id": "ZdETccf8l6Xg"
      }
    },
    {
      "cell_type": "markdown",
      "source": [
        "# Education (EDUCATION)\n",
        "### Let's test the hypothesis that education does not affect whether a person repays a debt.\n",
        "\n",
        "H0: No relationship between education level and default\n",
        "\n",
        "H1: H0 is not correct"
      ],
      "metadata": {
        "id": "e3YdU1Oimpet"
      }
    },
    {
      "cell_type": "code",
      "source": [
        "#Education distribution\n",
        "plt.figure(figsize=(11,7))\n",
        "plt.subplot(121)\n",
        "plt.title('EDUCATION')\n",
        "plt.hist(data['EDUCATION'], edgecolor='k')\n",
        "plt.subplot(122)\n",
        "plt.title('EDUCATION for default 0 or 1')\n",
        "plt.hist(rtrn.EDUCATION, label='Default = 0', edgecolor='k')\n",
        "plt.hist(not_rtrn.EDUCATION, label='Default = 1', edgecolor='k')\n",
        "plt.legend()"
      ],
      "metadata": {
        "colab": {
          "base_uri": "https://localhost:8080/",
          "height": 462
        },
        "id": "SLVyl4YqkntS",
        "outputId": "20e2f3ad-99e1-462a-e531-1879320f0fbd"
      },
      "execution_count": 33,
      "outputs": [
        {
          "output_type": "execute_result",
          "data": {
            "text/plain": [
              "<matplotlib.legend.Legend at 0x7f4f58ffe8d0>"
            ]
          },
          "metadata": {},
          "execution_count": 33
        },
        {
          "output_type": "display_data",
          "data": {
            "text/plain": [
              "<Figure size 792x504 with 2 Axes>"
            ],
            "image/png": "[encoded data removed]"
          },
          "metadata": {
            "needs_background": "light"
          }
        }
      ]
    },
    {
      "cell_type": "markdown",
      "source": [
        "We have an uneven distribution of people according to the degree of education.\n",
        "\n",
        "Let's make a contingency table \"education\" and \"debt repayment\", where the value of the cell would be the difference between the observed and expected number of people."
      ],
      "metadata": {
        "id": "gUgT0Vl6rozz"
      }
    },
    {
      "cell_type": "code",
      "source": [
        "# level - the difference between those who returned and those who did not return - total number of people\n",
        "difference = []\n",
        "for level in range(0,7):\n",
        "    diff = data[(data.EDUCATION == level) & (data.default == 0)].shape[0] - data[(data.EDUCATION == level) & (data.default == 1)].shape[0]\n",
        "    difference = np.append(difference, diff)\n",
        "    print(level, diff, data[(data.EDUCATION == level)].shape[0])"
      ],
      "metadata": {
        "colab": {
          "base_uri": "https://localhost:8080/"
        },
        "id": "ISDqrIh5nNqh",
        "outputId": "491c8090-d923-49f5-88fa-c32b85efd9d9"
      },
      "execution_count": 34,
      "outputs": [
        {
          "output_type": "stream",
          "name": "stdout",
          "text": [
            "0 14 14\n",
            "1 6513 10585\n",
            "2 7370 14030\n",
            "3 2443 4917\n",
            "4 109 123\n",
            "5 244 280\n",
            "6 35 51\n"
          ]
        }
      ]
    },
    {
      "cell_type": "markdown",
      "source": [
        "Let's perform normalization by dividing the difference by the total number of people who received a loan in the group under consideration."
      ],
      "metadata": {
        "id": "UqKCvx6GwikT"
      }
    },
    {
      "cell_type": "code",
      "source": [
        "difference = []\n",
        "for level in range(0,7):\n",
        "    diff = 1.*(data[(data.EDUCATION == level) & (data.default == 0)].shape[0] ) / data[(data.EDUCATION == level) ].shape[0]\n",
        "    difference = np.append(difference, diff)\n",
        "    print(level, diff)"
      ],
      "metadata": {
        "colab": {
          "base_uri": "https://localhost:8080/"
        },
        "id": "r4bumqTdqjxx",
        "outputId": "e272da6a-ac15-4f65-8145-8d0a914a451d"
      },
      "execution_count": 35,
      "outputs": [
        {
          "output_type": "stream",
          "name": "stdout",
          "text": [
            "0 1.0\n",
            "1 0.8076523382144544\n",
            "2 0.7626514611546685\n",
            "3 0.7484238356721579\n",
            "4 0.943089430894309\n",
            "5 0.9357142857142857\n",
            "6 0.8431372549019608\n"
          ]
        }
      ]
    },
    {
      "cell_type": "markdown",
      "source": [
        "0 and 4 types of training have the highest probability of returning the loan. The least likely is type 2.\n",
        "\n",
        "\n",
        "Next we created a matrix, where the first row is those people who did not repay the loan, and the second is those who did.\n"
      ],
      "metadata": {
        "id": "gehhXC54zdL-"
      }
    },
    {
      "cell_type": "code",
      "source": [
        "frst = []\n",
        "scnd = []\n",
        "for first in range(0,7):\n",
        "  frst.append(data[(data.EDUCATION == first) & (data.default == 1)].shape[0])\n",
        "for second in range(0,7):\n",
        "  scnd.append(data[(data.EDUCATION == second) & (data.default == 0)].shape[0])\n",
        "confusion_matrix = np.column_stack((frst, scnd)).transpose()\n",
        "print(confusion_matrix)\n",
        "def cramers_stat(confusion_matrix): \n",
        "    chi2 = scipy.stats.chi2_contingency(confusion_matrix, correction= True)[0]\n",
        "    n = confusion_matrix.sum() \n",
        "    return np.sqrt(1.*chi2 / (n*(min(confusion_matrix.shape)-1))) \n",
        "\n",
        "print(\"Cramer V: \", cramers_stat(confusion_matrix), \"p-value: \", scipy.stats.chi2_contingency(confusion_matrix, correction= True)[1])"
      ],
      "metadata": {
        "colab": {
          "base_uri": "https://localhost:8080/"
        },
        "id": "Bprw_FKkRNAN",
        "outputId": "109c92e1-c8c1-467d-be65-310b76de326d"
      },
      "execution_count": 97,
      "outputs": [
        {
          "output_type": "stream",
          "name": "stdout",
          "text": [
            "[[    0  2036  3330  1237     7    18     8]\n",
            " [   14  8549 10700  3680   116   262    43]]\n",
            "Cramer V:  0.07376009713252162 p-value:  1.2332626245415958e-32\n"
          ]
        }
      ]
    },
    {
      "cell_type": "markdown",
      "source": [
        "Null hypothesis is rejected, Cramer's V value is 0.07"
      ],
      "metadata": {
        "id": "bs7BWOWxk6o6"
      }
    },
    {
      "cell_type": "markdown",
      "source": [
        "# Marital status (MARRIAGE)\n",
        "### Let's check how marital status is related to the default indicator."
      ],
      "metadata": {
        "id": "ndUAAWwolI3x"
      }
    },
    {
      "cell_type": "code",
      "source": [
        "#Marital status distribution\n",
        "plt.figure(figsize=(11,7))\n",
        "plt.subplot(121)\n",
        "plt.title('MARRIAGE')\n",
        "plt.hist(data['MARRIAGE'], edgecolor='k')\n",
        "plt.subplot(122)\n",
        "plt.title('MARRIAGE for default 0 or 1')\n",
        "plt.hist(rtrn.MARRIAGE, label='Default = 0', edgecolor='k')\n",
        "plt.hist(not_rtrn.MARRIAGE, label='Default = 1', edgecolor='k')\n",
        "plt.legend()"
      ],
      "metadata": {
        "colab": {
          "base_uri": "https://localhost:8080/",
          "height": 462
        },
        "id": "DZ_zmrN90m_o",
        "outputId": "70e015dd-3aed-4cb4-c2c3-f2a2d3b0efc6"
      },
      "execution_count": 96,
      "outputs": [
        {
          "output_type": "execute_result",
          "data": {
            "text/plain": [
              "<matplotlib.legend.Legend at 0x7f4f55de4050>"
            ]
          },
          "metadata": {},
          "execution_count": 96
        },
        {
          "output_type": "display_data",
          "data": {
            "text/plain": [
              "<Figure size 792x504 with 2 Axes>"
            ],
            "image/png": "[encoded data removed]"
          },
          "metadata": {
            "needs_background": "light"
          }
        }
      ]
    },
    {
      "cell_type": "markdown",
      "source": [
        "Again we created a matrix, where the first row is those people who did not repay the loan, and the second is those who did.\n",
        "\n",
        "And we counted Cramer's V coefficient."
      ],
      "metadata": {
        "id": "FsDA3s2XmZVh"
      }
    },
    {
      "cell_type": "code",
      "source": [
        "frst = []\n",
        "scnd = []\n",
        "for first in range(0,4):\n",
        "  frst.append(data[(not_rtrn.MARRIAGE == first) & (data.default == 1)].shape[0])\n",
        "for second in range(0,4):\n",
        "  scnd.append(data[(data.MARRIAGE == second) & (data.default == 0)].shape[0])\n",
        "confusion_matrix = np.column_stack((frst, scnd)).transpose()\n",
        "print(confusion_matrix)\n",
        "def cramers_stat(confusion_matrix): \n",
        "    chi2 = scipy.stats.chi2_contingency(confusion_matrix, correction= True)[0]\n",
        "    n = confusion_matrix.sum() \n",
        "    return np.sqrt(1.*chi2 / (n*(min(confusion_matrix.shape)-1))) \n",
        "\n",
        "print(\"Cramer V: \", cramers_stat(confusion_matrix), \"p-value: \", scipy.stats.chi2_contingency(confusion_matrix, correction= True)[1])"
      ],
      "metadata": {
        "colab": {
          "base_uri": "https://localhost:8080/"
        },
        "id": "wldQ2olmlp_h",
        "outputId": "d319bbf8-fb85-48c2-9e1e-2dcbb89a1006"
      },
      "execution_count": 100,
      "outputs": [
        {
          "output_type": "stream",
          "name": "stdout",
          "text": [
            "[[    5  3206  3341    84]\n",
            " [   49 10453 12623   239]]\n",
            "Cramer V:  0.034478203662766466 p-value:  8.825862457577375e-08\n"
          ]
        }
      ]
    },
    {
      "cell_type": "markdown",
      "source": [
        "\n",
        "Cramer's coefficient shows that there is no relationship.\n",
        "\n",
        "There is practical significance in this information, since the model will know that there is no correlation between marital status and default."
      ],
      "metadata": {
        "id": "Yvq9SgAQm6eR"
      }
    },
    {
      "cell_type": "markdown",
      "source": [
        "# Age (AGE)"
      ],
      "metadata": {
        "id": "mvX1UuAOnKYo"
      }
    },
    {
      "cell_type": "code",
      "source": [
        "#Age distribution\n",
        "plt.figure(figsize=(11,7))\n",
        "plt.subplot(121)\n",
        "plt.title('AGE')\n",
        "plt.hist(data['AGE'], edgecolor='k')\n",
        "plt.subplot(122)\n",
        "plt.title('AGE for default 0 or 1')\n",
        "plt.hist(rtrn.AGE, label='Default = 0', edgecolor='k')\n",
        "plt.hist(not_rtrn.AGE, label='Default = 1', edgecolor='k')\n",
        "plt.legend()"
      ],
      "metadata": {
        "colab": {
          "base_uri": "https://localhost:8080/",
          "height": 462
        },
        "id": "1PwEKiXMm6M1",
        "outputId": "f5a6e632-48f3-4304-9096-07cdf1c86182"
      },
      "execution_count": 101,
      "outputs": [
        {
          "output_type": "execute_result",
          "data": {
            "text/plain": [
              "<matplotlib.legend.Legend at 0x7f4f55b41650>"
            ]
          },
          "metadata": {},
          "execution_count": 101
        },
        {
          "output_type": "display_data",
          "data": {
            "text/plain": [
              "<Figure size 792x504 with 2 Axes>"
            ],
            "image/png": "[encoded data removed]"
          },
          "metadata": {
            "needs_background": "light"
          }
        }
      ]
    },
    {
      "cell_type": "markdown",
      "source": [
        "### Let's test the hypothesis about the equality of the median values ​​of people's ages\n",
        "H0: median values ​​are equal\n",
        "\n",
        "H1: median values ​​are different"
      ],
      "metadata": {
        "id": "ZOSTYbplwUVe"
      }
    },
    {
      "cell_type": "code",
      "source": [
        "plt.figure(figsize=(12,8))\n",
        "plt.subplot(2,2,1)\n",
        "stats.probplot(rtrn.AGE, dist=\"norm\", plot=plt)\n",
        "plt.subplot(2,2,2)\n",
        "stats.probplot(not_rtrn.AGE, dist=\"norm\", plot=plt)\n",
        "plt.show()"
      ],
      "metadata": {
        "colab": {
          "base_uri": "https://localhost:8080/",
          "height": 276
        },
        "id": "5t6jMDT8xo8F",
        "outputId": "1d1090e4-08e2-495e-da86-8e8de1eda55f"
      },
      "execution_count": 104,
      "outputs": [
        {
          "output_type": "display_data",
          "data": {
            "text/plain": [
              "<Figure size 864x576 with 2 Axes>"
            ],
            "image/png": "[encoded data removed]"
          },
          "metadata": {
            "needs_background": "light"
          }
        }
      ]
    },
    {
      "cell_type": "markdown",
      "source": [
        "Distribution is different from normal."
      ],
      "metadata": {
        "id": "vOzQNLY3x9uA"
      }
    },
    {
      "cell_type": "code",
      "source": [
        "# point estimate of the medians\n",
        "print(f'For those who returned: {rtrn.AGE.median()}')\n",
        "print(f'For those who did not return: {not_rtrn.AGE.median()}')"
      ],
      "metadata": {
        "colab": {
          "base_uri": "https://localhost:8080/"
        },
        "id": "OU484badmJ5B",
        "outputId": "c6e9723b-0fb7-42a1-8e65-6ba508198ee9"
      },
      "execution_count": 102,
      "outputs": [
        {
          "output_type": "stream",
          "name": "stdout",
          "text": [
            "For those who returned: 34.0\n",
            "For those who did not return: 34.0\n"
          ]
        }
      ]
    },
    {
      "cell_type": "code",
      "source": [
        "# bootstrap estimate of the medians\n",
        "def get_bootstrap_samples(data, n_samples):\n",
        "  indices = np.random.randint(0, len(data), (n_samples, len(data)))\n",
        "  samples = data[indices]\n",
        "  return samples\n",
        "\n",
        "def stat_intervals(stat, alpha):\n",
        "  boundaries = np.percentile(stat, [100 * alpha / 2., 100 *(1 - alpha / 2.)])\n",
        "  return boundaries\n",
        "\n",
        "np.random.seed(0)\n",
        "rtrn_median_scores = np.array(list(map(np.median, get_bootstrap_samples(rtrn.AGE.to_numpy(), 1000))))\n",
        "not_rtrn_median_scores = np.array(list(map(np.median, get_bootstrap_samples(not_rtrn.AGE.to_numpy(), 1000))))\n",
        "print('95% confidence interval for those who returned', stat_intervals(rtrn_median_scores, 0.05))\n",
        "print('95% confidence interval for those who did not return', stat_intervals(not_rtrn_median_scores, 0.05))"
      ],
      "metadata": {
        "colab": {
          "base_uri": "https://localhost:8080/"
        },
        "id": "kMNspygUwpCw",
        "outputId": "7507a6ea-a035-4c46-9c69-117a09cf1917"
      },
      "execution_count": 103,
      "outputs": [
        {
          "output_type": "stream",
          "name": "stdout",
          "text": [
            "95% confidence interval for those who returned [34. 34.]\n",
            "95% confidence interval for those who did not return [34. 35.]\n"
          ]
        }
      ]
    },
    {
      "cell_type": "markdown",
      "source": [
        "\n",
        "As can be seen from the interval estimate, the interval estimates for the median intersect. Let's construct a confidence interval for the difference between two fractions of independent samples.\n"
      ],
      "metadata": {
        "id": "7zQkPhatw6GS"
      }
    },
    {
      "cell_type": "code",
      "source": [
        "print('median for those who returned: ', sum(rtrn_median_scores) / float(len(rtrn.AGE)))\n",
        "print('median for those who did not return: ', sum(not_rtrn_median_scores) / float(len(not_rtrn.AGE)))\n",
        "\n",
        "delta_median_scores = np.array(list(map(lambda x: x[0] - x[1], zip(rtrn_median_scores, not_rtrn_median_scores))))\n",
        "print(\"95% confidence interval for the difference between medians\",  stat_intervals(delta_median_scores, 0.05))"
      ],
      "metadata": {
        "colab": {
          "base_uri": "https://localhost:8080/"
        },
        "id": "gm-NDhWNyYTU",
        "outputId": "c76f3287-ce6a-43c2-8b39-218ed47706c3"
      },
      "execution_count": 110,
      "outputs": [
        {
          "output_type": "stream",
          "name": "stdout",
          "text": [
            "median for those who returned:  1.4552302687895908\n",
            "median for those who did not return:  5.136904761904762\n",
            "95% confidence interval for the difference between medians [-1.  0.]\n"
          ]
        }
      ]
    },
    {
      "cell_type": "markdown",
      "source": [
        "The confidence interval contains zero, the median values ​​do not differ."
      ],
      "metadata": {
        "id": "FhJroJUJ1f2k"
      }
    },
    {
      "cell_type": "markdown",
      "source": [
        "### Let's test the hypothesis about the equality of distributions using one of the appropriate nonparametric criteria for checking the equality of means."
      ],
      "metadata": {
        "id": "3I2LUAI5w_wd"
      }
    },
    {
      "cell_type": "markdown",
      "source": [
        "H0: sample distributions are completely equal\n",
        "\n",
        "H1: sample distributions differ by the amount of shift"
      ],
      "metadata": {
        "id": "EcV7ueCR3E1c"
      }
    },
    {
      "cell_type": "code",
      "source": [
        "# permutation criterion for independent samples\n",
        "def permutation_t_stat_ind(sample1, sample2):\n",
        "    return np.mean(sample1) - np.mean(sample2)\n",
        "\n",
        "def get_random_combinations(n1, n2, max_combinations):\n",
        "    index = list(range(n1 + n2))\n",
        "    indices = set([tuple(index)])\n",
        "    for i in range(max_combinations - 1):\n",
        "        np.random.shuffle(index)\n",
        "        indices.add(tuple(index))\n",
        "    return [(index[:n1], index[n1:]) for index in indices]\n",
        "  \n",
        "def permutation_zero_dist_ind(sample1, sample2, max_combinations=None):\n",
        "    joined_sample = np.hstack((sample1, sample2))\n",
        "    n1 = len(sample1)\n",
        "    n = len(joined_sample)\n",
        "    \n",
        "    if max_combinations:\n",
        "        indices = get_random_combinations(n1, len(sample2), max_combinations)\n",
        "    else:\n",
        "        indices = [(list(index), filter(lambda i: i not in index, range(n))) \\\n",
        "                    for index in itertools.combinations(range(n), n1)]\n",
        "    \n",
        "    distr = [joined_sample[list(i[0])].mean() - joined_sample[list(i[1])].mean() \\\n",
        "             for i in indices]\n",
        "    return distr\n",
        "\n",
        "def permutation_test(sample1, sample2, max_permutations=None, alternative='two-sided'):\n",
        "    if alternative not in ('two-sided', 'less', 'greater'):\n",
        "        raise ValueError(\"alternative not recognized\\n\"\n",
        "                         \"should be 'two-sided', 'less' or 'greater'\")\n",
        "    \n",
        "    t_stat = permutation_t_stat_ind(sample1, sample2)\n",
        "    \n",
        "    zero_distr = permutation_zero_dist_ind(sample1, sample2, max_permutations)\n",
        "    \n",
        "    if alternative == 'two-sided':\n",
        "        return sum([1. if abs(x) >= abs(t_stat) else 0. for x in zero_distr]) / len(zero_distr)\n",
        "    \n",
        "    if alternative == 'less':\n",
        "        return sum([1. if x <= t_stat else 0. for x in zero_distr]) / len(zero_distr)\n",
        "\n",
        "    if alternative == 'greater':\n",
        "        return sum([1. if x >= t_stat else 0. for x in zero_distr]) / len(zero_distr)\n",
        "\n",
        "print('p-value:', permutation_test(rtrn.AGE, not_rtrn.AGE, max_permutations=1000))"
      ],
      "metadata": {
        "colab": {
          "base_uri": "https://localhost:8080/"
        },
        "id": "zmjHiDX6w0E2",
        "outputId": "515d34bb-66be-4241-b83b-f74feaacfc8b"
      },
      "execution_count": 115,
      "outputs": [
        {
          "output_type": "stream",
          "name": "stdout",
          "text": [
            "p-value: 0.008\n"
          ]
        }
      ]
    },
    {
      "cell_type": "markdown",
      "source": [
        "\n",
        "The p-value is small and the null hypothesis is rejected.\n",
        "\n",
        "\n",
        "This result is also practically significant, because these data can be taken into account when issuing a loan."
      ],
      "metadata": {
        "id": "PcCgHDfc5T0Q"
      }
    }
  ]
}