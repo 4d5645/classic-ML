{
  "nbformat": 4,
  "nbformat_minor": 0,
  "metadata": {
    "colab": {
      "name": "Analysis of AB test results.ipynb",
      "provenance": [],
      "authorship_tag": "ABX9TyNmPlbHS+wpdYgORL/49+Rr",
      "include_colab_link": true
    },
    "kernelspec": {
      "name": "python3",
      "display_name": "Python 3"
    },
    "language_info": {
      "name": "python"
    }
  },
  "cells": [
    {
      "cell_type": "markdown",
      "metadata": {
        "id": "view-in-github",
        "colab_type": "text"
      },
      "source": [
        "<a href=\"https://colab.research.google.com/github/4d5645/StatsForDataAnalysis_MIPT/blob/main/Analysis_of_AB_test_results.ipynb\" target=\"_parent\"><img src=\"https://colab.research.google.com/assets/colab-badge.svg\" alt=\"Open In Colab\"/></a>"
      ]
    },
    {
      "cell_type": "markdown",
      "source": [
        "# Analysis of AB test results\n",
        "- analyzing an AB test conducted on real Yandex users\n",
        "\n",
        "- confirming or denying the presence of changes in user behavior between the control (control) and test (exp) groups\n",
        "\n",
        "- determining the nature of these changes and the practical significance of the introduced change\n",
        "\n",
        "- understanding which of the user groups loses/benefits the most from the change being tested (localize the change)"
      ],
      "metadata": {
        "id": "z73WmGhHsKH5"
      }
    },
    {
      "cell_type": "code",
      "execution_count": 54,
      "metadata": {
        "colab": {
          "base_uri": "https://localhost:8080/"
        },
        "id": "I2gk_8Tur7ZQ",
        "outputId": "2ba7da18-1a8e-4be9-ecbb-0a3c440bf1de"
      },
      "outputs": [
        {
          "output_type": "stream",
          "name": "stdout",
          "text": [
            "Populating the interactive namespace from numpy and matplotlib\n"
          ]
        }
      ],
      "source": [
        "%pylab inline\n",
        "import pandas as pd\n",
        "import numpy as np\n",
        "import scipy\n",
        "import math\n",
        "import statsmodels\n",
        "from scipy import stats\n",
        "import matplotlib.pyplot as plt\n",
        "import warnings\n",
        "from itertools import product\n",
        "from statsmodels.sandbox.stats.multicomp import multipletests\n",
        "warnings.filterwarnings('ignore')"
      ]
    },
    {
      "cell_type": "code",
      "source": [
        "from google.colab import drive\n",
        "drive.mount('/content/gdrive')\n",
        "data = pd.read_csv('/content/gdrive/MyDrive/Colab Notebooks/MIPT/ab_browser_test.csv')"
      ],
      "metadata": {
        "colab": {
          "base_uri": "https://localhost:8080/"
        },
        "id": "NJSjjmalDC-9",
        "outputId": "9748db2a-dac5-4d0b-b3be-ce94416748d2"
      },
      "execution_count": 55,
      "outputs": [
        {
          "output_type": "stream",
          "name": "stdout",
          "text": [
            "Drive already mounted at /content/gdrive; to attempt to forcibly remount, call drive.mount(\"/content/gdrive\", force_remount=True).\n"
          ]
        }
      ]
    },
    {
      "cell_type": "markdown",
      "source": [
        "## Data Description:\n",
        "\n",
        "- userID: unique user ID\n",
        "\n",
        "- browser: the browser that used the userID\n",
        "\n",
        "- slot: in what status the user participated in the study (exp = saw the modified page, control = saw the unchanged page)\n",
        "\n",
        "- n_clicks: number of clicks the user made in n_queries\n",
        "\n",
        "- n_queries: number of queries that userID made using the browser browser\n",
        "\n",
        "- n_nonclk_queries: number of user requests in which they did not make a single click\n"
      ],
      "metadata": {
        "id": "-l9FzyByMhsa"
      }
    },
    {
      "cell_type": "code",
      "source": [
        "data"
      ],
      "metadata": {
        "colab": {
          "base_uri": "https://localhost:8080/",
          "height": 423
        },
        "id": "IfG1ZvxjMM01",
        "outputId": "adcfdf67-b527-46c5-bc8e-4a8edd8702b4"
      },
      "execution_count": 73,
      "outputs": [
        {
          "output_type": "execute_result",
          "data": {
            "text/plain": [
              "        userID      browser     slot  n_clicks  n_queries  n_nonclk_queries\n",
              "0            1   Browser #2      exp        23         32                19\n",
              "1            3   Browser #4      exp         3          4                 2\n",
              "2            5   Browser #4      exp        29         35                16\n",
              "3            6   Browser #4  control        12          6                 0\n",
              "4            7   Browser #4      exp        54         68                30\n",
              "...        ...          ...      ...       ...        ...               ...\n",
              "566129  603133  Browser #14  control         1          2                 1\n",
              "566130  603134   Browser #2      exp         4          2                 0\n",
              "566131  603135   Browser #4  control         0          1                 1\n",
              "566132  603136   Browser #4  control         2          3                 1\n",
              "566133  603137   Browser #2      exp         3          1                 0\n",
              "\n",
              "[566134 rows x 6 columns]"
            ],
            "text/html": [
              "\n",
              "  <div id=\"df-4d23e9b0-7126-4d47-8988-629322c52076\">\n",
              "    <div class=\"colab-df-container\">\n",
              "      <div>\n",
              "<style scoped>\n",
              "    .dataframe tbody tr th:only-of-type {\n",
              "        vertical-align: middle;\n",
              "    }\n",
              "\n",
              "    .dataframe tbody tr th {\n",
              "        vertical-align: top;\n",
              "    }\n",
              "\n",
              "    .dataframe thead th {\n",
              "        text-align: right;\n",
              "    }\n",
              "</style>\n",
              "<table border=\"1\" class=\"dataframe\">\n",
              "  <thead>\n",
              "    <tr style=\"text-align: right;\">\n",
              "      <th></th>\n",
              "      <th>userID</th>\n",
              "      <th>browser</th>\n",
              "      <th>slot</th>\n",
              "      <th>n_clicks</th>\n",
              "      <th>n_queries</th>\n",
              "      <th>n_nonclk_queries</th>\n",
              "    </tr>\n",
              "  </thead>\n",
              "  <tbody>\n",
              "    <tr>\n",
              "      <th>0</th>\n",
              "      <td>1</td>\n",
              "      <td>Browser #2</td>\n",
              "      <td>exp</td>\n",
              "      <td>23</td>\n",
              "      <td>32</td>\n",
              "      <td>19</td>\n",
              "    </tr>\n",
              "    <tr>\n",
              "      <th>1</th>\n",
              "      <td>3</td>\n",
              "      <td>Browser #4</td>\n",
              "      <td>exp</td>\n",
              "      <td>3</td>\n",
              "      <td>4</td>\n",
              "      <td>2</td>\n",
              "    </tr>\n",
              "    <tr>\n",
              "      <th>2</th>\n",
              "      <td>5</td>\n",
              "      <td>Browser #4</td>\n",
              "      <td>exp</td>\n",
              "      <td>29</td>\n",
              "      <td>35</td>\n",
              "      <td>16</td>\n",
              "    </tr>\n",
              "    <tr>\n",
              "      <th>3</th>\n",
              "      <td>6</td>\n",
              "      <td>Browser #4</td>\n",
              "      <td>control</td>\n",
              "      <td>12</td>\n",
              "      <td>6</td>\n",
              "      <td>0</td>\n",
              "    </tr>\n",
              "    <tr>\n",
              "      <th>4</th>\n",
              "      <td>7</td>\n",
              "      <td>Browser #4</td>\n",
              "      <td>exp</td>\n",
              "      <td>54</td>\n",
              "      <td>68</td>\n",
              "      <td>30</td>\n",
              "    </tr>\n",
              "    <tr>\n",
              "      <th>...</th>\n",
              "      <td>...</td>\n",
              "      <td>...</td>\n",
              "      <td>...</td>\n",
              "      <td>...</td>\n",
              "      <td>...</td>\n",
              "      <td>...</td>\n",
              "    </tr>\n",
              "    <tr>\n",
              "      <th>566129</th>\n",
              "      <td>603133</td>\n",
              "      <td>Browser #14</td>\n",
              "      <td>control</td>\n",
              "      <td>1</td>\n",
              "      <td>2</td>\n",
              "      <td>1</td>\n",
              "    </tr>\n",
              "    <tr>\n",
              "      <th>566130</th>\n",
              "      <td>603134</td>\n",
              "      <td>Browser #2</td>\n",
              "      <td>exp</td>\n",
              "      <td>4</td>\n",
              "      <td>2</td>\n",
              "      <td>0</td>\n",
              "    </tr>\n",
              "    <tr>\n",
              "      <th>566131</th>\n",
              "      <td>603135</td>\n",
              "      <td>Browser #4</td>\n",
              "      <td>control</td>\n",
              "      <td>0</td>\n",
              "      <td>1</td>\n",
              "      <td>1</td>\n",
              "    </tr>\n",
              "    <tr>\n",
              "      <th>566132</th>\n",
              "      <td>603136</td>\n",
              "      <td>Browser #4</td>\n",
              "      <td>control</td>\n",
              "      <td>2</td>\n",
              "      <td>3</td>\n",
              "      <td>1</td>\n",
              "    </tr>\n",
              "    <tr>\n",
              "      <th>566133</th>\n",
              "      <td>603137</td>\n",
              "      <td>Browser #2</td>\n",
              "      <td>exp</td>\n",
              "      <td>3</td>\n",
              "      <td>1</td>\n",
              "      <td>0</td>\n",
              "    </tr>\n",
              "  </tbody>\n",
              "</table>\n",
              "<p>566134 rows × 6 columns</p>\n",
              "</div>\n",
              "      <button class=\"colab-df-convert\" onclick=\"convertToInteractive('df-4d23e9b0-7126-4d47-8988-629322c52076')\"\n",
              "              title=\"Convert this dataframe to an interactive table.\"\n",
              "              style=\"display:none;\">\n",
              "        \n",
              "  <svg xmlns=\"http://www.w3.org/2000/svg\" height=\"24px\"viewBox=\"0 0 24 24\"\n",
              "       width=\"24px\">\n",
              "    <path d=\"M0 0h24v24H0V0z\" fill=\"none\"/>\n",
              "    <path d=\"M18.56 5.44l.94 2.06.94-2.06 2.06-.94-2.06-.94-.94-2.06-.94 2.06-2.06.94zm-11 1L8.5 8.5l.94-2.06 2.06-.94-2.06-.94L8.5 2.5l-.94 2.06-2.06.94zm10 10l.94 2.06.94-2.06 2.06-.94-2.06-.94-.94-2.06-.94 2.06-2.06.94z\"/><path d=\"M17.41 7.96l-1.37-1.37c-.4-.4-.92-.59-1.43-.59-.52 0-1.04.2-1.43.59L10.3 9.45l-7.72 7.72c-.78.78-.78 2.05 0 2.83L4 21.41c.39.39.9.59 1.41.59.51 0 1.02-.2 1.41-.59l7.78-7.78 2.81-2.81c.8-.78.8-2.07 0-2.86zM5.41 20L4 18.59l7.72-7.72 1.47 1.35L5.41 20z\"/>\n",
              "  </svg>\n",
              "      </button>\n",
              "      \n",
              "  <style>\n",
              "    .colab-df-container {\n",
              "      display:flex;\n",
              "      flex-wrap:wrap;\n",
              "      gap: 12px;\n",
              "    }\n",
              "\n",
              "    .colab-df-convert {\n",
              "      background-color: #E8F0FE;\n",
              "      border: none;\n",
              "      border-radius: 50%;\n",
              "      cursor: pointer;\n",
              "      display: none;\n",
              "      fill: #1967D2;\n",
              "      height: 32px;\n",
              "      padding: 0 0 0 0;\n",
              "      width: 32px;\n",
              "    }\n",
              "\n",
              "    .colab-df-convert:hover {\n",
              "      background-color: #E2EBFA;\n",
              "      box-shadow: 0px 1px 2px rgba(60, 64, 67, 0.3), 0px 1px 3px 1px rgba(60, 64, 67, 0.15);\n",
              "      fill: #174EA6;\n",
              "    }\n",
              "\n",
              "    [theme=dark] .colab-df-convert {\n",
              "      background-color: #3B4455;\n",
              "      fill: #D2E3FC;\n",
              "    }\n",
              "\n",
              "    [theme=dark] .colab-df-convert:hover {\n",
              "      background-color: #434B5C;\n",
              "      box-shadow: 0px 1px 3px 1px rgba(0, 0, 0, 0.15);\n",
              "      filter: drop-shadow(0px 1px 2px rgba(0, 0, 0, 0.3));\n",
              "      fill: #FFFFFF;\n",
              "    }\n",
              "  </style>\n",
              "\n",
              "      <script>\n",
              "        const buttonEl =\n",
              "          document.querySelector('#df-4d23e9b0-7126-4d47-8988-629322c52076 button.colab-df-convert');\n",
              "        buttonEl.style.display =\n",
              "          google.colab.kernel.accessAllowed ? 'block' : 'none';\n",
              "\n",
              "        async function convertToInteractive(key) {\n",
              "          const element = document.querySelector('#df-4d23e9b0-7126-4d47-8988-629322c52076');\n",
              "          const dataTable =\n",
              "            await google.colab.kernel.invokeFunction('convertToInteractive',\n",
              "                                                     [key], {});\n",
              "          if (!dataTable) return;\n",
              "\n",
              "          const docLinkHtml = 'Like what you see? Visit the ' +\n",
              "            '<a target=\"_blank\" href=https://colab.research.google.com/notebooks/data_table.ipynb>data table notebook</a>'\n",
              "            + ' to learn more about interactive tables.';\n",
              "          element.innerHTML = '';\n",
              "          dataTable['output_type'] = 'display_data';\n",
              "          await google.colab.output.renderOutput(dataTable, element);\n",
              "          const docLink = document.createElement('div');\n",
              "          docLink.innerHTML = docLinkHtml;\n",
              "          element.appendChild(docLink);\n",
              "        }\n",
              "      </script>\n",
              "    </div>\n",
              "  </div>\n",
              "  "
            ]
          },
          "metadata": {},
          "execution_count": 73
        }
      ]
    },
    {
      "cell_type": "code",
      "source": [
        "exp = data[data.slot == 'exp']\n",
        "control = data[data.slot == 'control']"
      ],
      "metadata": {
        "id": "GVP_-tXPMbIQ"
      },
      "execution_count": 57,
      "outputs": []
    },
    {
      "cell_type": "code",
      "source": [
        "exp_click = exp.n_clicks.sum()\n",
        "print(f'Amount of clicks in exp group: {exp_click}')\n",
        "control_click = control.n_clicks.sum()\n",
        "print(f'Amount of clicks in control group: {control_click}')\n",
        "goal = exp_click / control_click * 100 - 100\n",
        "print(f'Difference in %: {goal}')"
      ],
      "metadata": {
        "colab": {
          "base_uri": "https://localhost:8080/"
        },
        "id": "POV6dmQLM3Ye",
        "outputId": "75187263-0a05-4a55-ae2c-aa39fb0cf310"
      },
      "execution_count": 58,
      "outputs": [
        {
          "output_type": "stream",
          "name": "stdout",
          "text": [
            "Amount of clicks in exp group: 3261823\n",
            "Amount of clicks in control group: 3210027\n",
            "Difference in %: 1.6135689824415778\n"
          ]
        }
      ]
    },
    {
      "cell_type": "markdown",
      "source": [
        "Let's try to take a closer look at the difference between the two groups (control and exp) regarding the number of user clicks.\n",
        "\n",
        "To do this, we will use the bootstrap to construct a 95% confidence interval for the averages and medians of the number of clicks in each of the two groups."
      ],
      "metadata": {
        "id": "RyqCGgL5Q9US"
      }
    },
    {
      "cell_type": "code",
      "source": [
        "# bootstrap estimate of the medians\n",
        "def get_bootstrap_samples(data, n_samples):\n",
        "  indices = np.random.randint(0, len(data), (n_samples, len(data)))\n",
        "  samples = data[indices]\n",
        "  return samples\n",
        "\n",
        "def stat_intervals(stat, alpha):\n",
        "  boundaries = np.percentile(stat, [100 * alpha / 2., 100 *(1 - alpha / 2.)])\n",
        "  return boundaries\n",
        "\n",
        "np.random.seed(0)\n",
        "exp_median_scores = np.array(list(map(np.median, get_bootstrap_samples(exp.n_clicks.to_numpy(), 1000))))\n",
        "control_median_scores = np.array(list(map(np.median, get_bootstrap_samples(control.n_clicks.to_numpy(), 1000))))\n",
        "print('95% confidence interval for median exp', stat_intervals(exp_median_scores, 0.05))\n",
        "print('95% confidence interval for median control', stat_intervals(control_median_scores, 0.05))\n",
        "\n",
        "delta_median_scores = np.array(list(map(lambda x: x[0] - x[1], zip(exp_median_scores, control_median_scores))))\n",
        "print(\"95% confidence interval for the difference between medians\",  stat_intervals(delta_median_scores, 0.05))"
      ],
      "metadata": {
        "colab": {
          "base_uri": "https://localhost:8080/"
        },
        "id": "eW-YKmQ4RKZR",
        "outputId": "1aa08017-e287-4ca0-df74-615dbe8478ce"
      },
      "execution_count": 59,
      "outputs": [
        {
          "output_type": "stream",
          "name": "stdout",
          "text": [
            "95% confidence interval for median exp [5. 5.]\n",
            "95% confidence interval for median control [4. 4.]\n",
            "95% confidence interval for the difference between medians [1. 1.]\n"
          ]
        }
      ]
    },
    {
      "cell_type": "markdown",
      "source": [
        "The 95% confidence interval for the median difference does not contain zero, it seems that the medians differ statistically significantly.\n"
      ],
      "metadata": {
        "id": "bkQIwLEohLhG"
      }
    },
    {
      "cell_type": "code",
      "source": [
        "# bootstrap estimate of the averages\n",
        "np.random.seed(0)\n",
        "exp_avg_scores = np.array(list(map(np.mean, get_bootstrap_samples(exp.n_clicks.to_numpy(), 1000))))\n",
        "control_avg_scores = np.array(list(map(np.mean, get_bootstrap_samples(control.n_clicks.to_numpy(), 1000))))\n",
        "print('95% confidence interval for averages exp', stat_intervals(exp_avg_scores, 0.05))\n",
        "print('95% confidence interval for averages control', stat_intervals(control_avg_scores, 0.05))\n",
        "\n",
        "delta_median_scores = np.array(list(map(lambda x: x[0] - x[1], zip(exp_avg_scores, control_avg_scores))))\n",
        "print(\"95% confidence interval for the difference between medians\",  stat_intervals(delta_median_scores, 0.05))"
      ],
      "metadata": {
        "colab": {
          "base_uri": "https://localhost:8080/"
        },
        "id": "jGTMTaHRfI6m",
        "outputId": "05c90861-7305-40ca-90df-480ab54cfba1"
      },
      "execution_count": 60,
      "outputs": [
        {
          "output_type": "stream",
          "name": "stdout",
          "text": [
            "95% confidence interval for averages exp [11.5086867  11.66089388]\n",
            "95% confidence interval for averages control [11.20795095 11.35742732]\n",
            "95% confidence interval for the difference between medians [0.19172563 0.40475697]\n"
          ]
        }
      ]
    },
    {
      "cell_type": "markdown",
      "source": [
        "The 95% confidence interval for the difference between the averages does not contain zero, it seems that the means differ statistically significantly."
      ],
      "metadata": {
        "id": "OJQAXpBVhF27"
      }
    },
    {
      "cell_type": "markdown",
      "source": [
        "Since there is a lot of data (about half a million unique users), a difference of several percent can be not only practically significant, but also statistically significant. The last statement needs additional verification.\n"
      ],
      "metadata": {
        "id": "L4NtTGpUhQLm"
      }
    },
    {
      "cell_type": "code",
      "source": [
        "plt.figure(figsize=(12,8))\n",
        "plt.subplot(2,2,1)\n",
        "stats.probplot(exp.n_clicks, dist=\"norm\", plot=plt)\n",
        "plt.subplot(2,2,2)\n",
        "stats.probplot(control.n_clicks, dist=\"norm\", plot=plt)\n",
        "plt.show()"
      ],
      "metadata": {
        "colab": {
          "base_uri": "https://localhost:8080/",
          "height": 276
        },
        "id": "l6WHI2PYfvBh",
        "outputId": "66511de4-fd82-4049-ca62-a59c645434c0"
      },
      "execution_count": 61,
      "outputs": [
        {
          "output_type": "display_data",
          "data": {
            "text/plain": [
              "<Figure size 864x576 with 2 Axes>"
            ],
            "image/png": "[encoded data removed]"
          },
          "metadata": {
            "needs_background": "light"
          }
        }
      ]
    },
    {
      "cell_type": "code",
      "source": [
        "#Age distribution\n",
        "plt.figure(figsize=(18,7))\n",
        "plt.subplot(121)\n",
        "plt.title('exp n_clicks')\n",
        "plt.hist(exp.n_clicks, edgecolor='k', bins=100)\n",
        "plt.subplot(122)\n",
        "plt.title('control n_clicks')\n",
        "plt.hist(control.n_clicks,edgecolor='k', bins=100)\n",
        "plt.legend()"
      ],
      "metadata": {
        "colab": {
          "base_uri": "https://localhost:8080/",
          "height": 479
        },
        "id": "OcQDQyR1hlYD",
        "outputId": "c0bf2edc-ed59-43d1-b934-b044babf9c21"
      },
      "execution_count": 62,
      "outputs": [
        {
          "output_type": "stream",
          "name": "stderr",
          "text": [
            "No handles with labels found to put in legend.\n"
          ]
        },
        {
          "output_type": "execute_result",
          "data": {
            "text/plain": [
              "<matplotlib.legend.Legend at 0x7fe610795fd0>"
            ]
          },
          "metadata": {},
          "execution_count": 62
        },
        {
          "output_type": "display_data",
          "data": {
            "text/plain": [
              "<Figure size 1296x504 with 2 Axes>"
            ],
            "image/png": "[encoded data removed]"
          },
          "metadata": {
            "needs_background": "light"
          }
        }
      ]
    },
    {
      "cell_type": "markdown",
      "source": [
        "Student's t-test has many advantages, and therefore it is often used in AB experiments. Sometimes its use may be unreasonable due to the strong skewness of the data distribution. For simplicity, consider a one-sample t-test.\n",
        "\n",
        "For the t-test assumptions to actually hold, it is necessary that:\n",
        "\n",
        "- the mean value in the sample was normally distributed N(μ,σ2n)\n",
        "- unbiased estimate of variance with scaling factor was chi-squared distributed with n−1 degrees of freedom χ2(n−1)\n",
        "\n",
        "Both of these assumptions can be tested using bootstrap. For now, we will restrict ourselves to the control group, in which the distribution of clicks will be called data within the framework of this question.\n",
        "\n",
        "Since we don't know the true distribution of the population, we can apply a bootstrap to understand how the mean and sample variance are distributed.\n",
        "\n",
        "We get pseudo-samples from the n_boot_samples data.\n",
        "\n",
        "For each of these samples, we calculate the mean and the sum of the squares of the deviation from the sample mean (control_boot_chi_squared).\n",
        "\n",
        "For the resulting vector of means from n_boot_samples, plot a q-q plot using scipy.stats.probplot for a normal distribution.\n",
        "\n",
        "For the resulting vector of sums of squares of the deviation from the sample mean, plot a qq-plot using scipy.stats.probplot for the chi-squared distribution using the command."
      ],
      "metadata": {
        "id": "Ov7rDXYC1xN0"
      }
    },
    {
      "cell_type": "code",
      "source": [
        "n_boot_samples = 500\n",
        "\n",
        "control_data = get_bootstrap_samples(control.n_clicks.values, n_boot_samples)\n",
        "\n",
        "control_means = []\n",
        "control_vars = []\n",
        "for i in range(n_boot_samples):\n",
        "  control_means.append(control_data[i].mean())\n",
        "  control_vars.append(control_data[i].var())\n",
        "stats.probplot(control_means, plot=plt, rvalue=True)\n",
        "plt.title('Probability plot for means')"
      ],
      "metadata": {
        "colab": {
          "base_uri": "https://localhost:8080/",
          "height": 312
        },
        "id": "TpqrfNYkjzp4",
        "outputId": "b1bdae02-2349-4a39-a71e-50533eb9d678"
      },
      "execution_count": 69,
      "outputs": [
        {
          "output_type": "execute_result",
          "data": {
            "text/plain": [
              "Text(0.5, 1.0, 'Probability plot for means')"
            ]
          },
          "metadata": {},
          "execution_count": 69
        },
        {
          "output_type": "display_data",
          "data": {
            "text/plain": [
              "<Figure size 432x288 with 1 Axes>"
            ],
            "image/png": "[encoded data removed]"
          },
          "metadata": {
            "needs_background": "light"
          }
        }
      ]
    },
    {
      "cell_type": "code",
      "source": [
        "stats.probplot(control_vars, plot=plt, dist='chi2', sparams=(len(control_means)-1), rvalue=True)\n",
        "plt.title('Probability plot for variances')"
      ],
      "metadata": {
        "colab": {
          "base_uri": "https://localhost:8080/",
          "height": 312
        },
        "id": "GPRZntJ22-vB",
        "outputId": "3813c058-93fc-4872-a0bd-153b77298c50"
      },
      "execution_count": 71,
      "outputs": [
        {
          "output_type": "execute_result",
          "data": {
            "text/plain": [
              "Text(0.5, 1.0, 'Probability plot for variances')"
            ]
          },
          "metadata": {},
          "execution_count": 71
        },
        {
          "output_type": "display_data",
          "data": {
            "text/plain": [
              "<Figure size 432x288 with 1 Axes>"
            ],
            "image/png": "[encoded data removed]"
          },
          "metadata": {
            "needs_background": "light"
          }
        }
      ]
    },
    {
      "cell_type": "markdown",
      "source": [
        "One possible analogue of the t-test that can be used is the Mann-Whitney test. On a fairly large class of distributions, it is asymptotically more efficient than the t-test, and it does not require parametric assumptions about the nature of the distribution.\n",
        "\n",
        "\n",
        "Let's transform the data to the form so that each user corresponds to the total value of his clicks. Using the Mann-Whitney test, we will test the hypothesis about the equality of the means.\n"
      ],
      "metadata": {
        "id": "ISNL2jGg-Vir"
      }
    },
    {
      "cell_type": "code",
      "source": [
        "usrs_exp = exp.groupby(['userID', 'browser']).sum().loc[:,'n_clicks']\n",
        "usrs_control = control.groupby(['userID', 'browser']).sum().loc[:, 'n_clicks']"
      ],
      "metadata": {
        "id": "ubFuMlS576z6"
      },
      "execution_count": 76,
      "outputs": []
    },
    {
      "cell_type": "code",
      "source": [
        "stats.mannwhitneyu(usrs_exp, usrs_control, alternative='two-sided')"
      ],
      "metadata": {
        "colab": {
          "base_uri": "https://localhost:8080/"
        },
        "id": "SBdjIH1w-yhK",
        "outputId": "808b49c0-d340-4e19-b5cf-9ef0bff703cb"
      },
      "execution_count": 77,
      "outputs": [
        {
          "output_type": "execute_result",
          "data": {
            "text/plain": [
              "MannwhitneyuResult(statistic=41184125116.0, pvalue=6.247235801369629e-75)"
            ]
          },
          "metadata": {},
          "execution_count": 77
        }
      ]
    },
    {
      "cell_type": "markdown",
      "source": [
        "p-value < 0.01, so we can say that the differences are negligible at the 0.05 confidence level."
      ],
      "metadata": {
        "id": "O_qdhNsh_oGs"
      }
    },
    {
      "cell_type": "markdown",
      "source": [
        "Let's check for which of the browsers the difference between the number of clicks in the control and experimental groups is most pronounced.\n",
        "\n",
        "To do this, apply for each of the slices (for each of the unique values ​​of the browser column) the Mann-Whitney test between the control and exp groups and make the Holm-Bonferroni correction for multiple validation with α=0.05.\n"
      ],
      "metadata": {
        "id": "QCKi72xE_57j"
      }
    },
    {
      "cell_type": "code",
      "source": [
        "usrs_exp = exp.groupby(['browser', 'userID']).sum().loc[:,'n_clicks']\n",
        "usrs_control = control.groupby(['browser', 'userID']).sum().loc[:, 'n_clicks']"
      ],
      "metadata": {
        "id": "BWweWzlB_ObM"
      },
      "execution_count": 91,
      "outputs": []
    },
    {
      "cell_type": "code",
      "source": [
        "print('Mann-Whitney rank test without multipletest')\n",
        "browsers = np.unique(data.browser)\n",
        "p_val= []\n",
        "for browser in browsers:\n",
        "  _, pv = stats.mannwhitneyu(usrs_exp.loc[browser, :], usrs_control.loc[browser, :], alternative='two-sided')\n",
        "  p_val.append(pv)\n",
        "  print(f\"{browser}, p-value: {pv}\")\n",
        "\n",
        "print('Mann-Whitney rank test with multipletest')\n",
        "_, p_val_corr, _, _ = multipletests(p_val, alpha = 0.05, method = 'holm')\n",
        "for i, browser in enumerate(browsers):\n",
        "    print(f\"{browser}, p-value corr: {p_val_corr[i]}\")"
      ],
      "metadata": {
        "colab": {
          "base_uri": "https://localhost:8080/"
        },
        "id": "7aGfurpDATv2",
        "outputId": "7c253a7e-3ba9-4495-b832-83b3561d1fe9"
      },
      "execution_count": 101,
      "outputs": [
        {
          "output_type": "stream",
          "name": "stdout",
          "text": [
            "Mann-Whitney rank test without multipletest\n",
            "Browser #14, p-value: 0.0\n",
            "Browser #17, p-value: 0.07480120286021603\n",
            "Browser #2, p-value: 0.0544877208394482\n",
            "Browser #20, p-value: 0.9073331277747075\n",
            "Browser #22, p-value: 0.5148110304420064\n",
            "Browser #4, p-value: 0.8152123531690997\n",
            "Mann-Whitney rank test with multipletest\n",
            "Browser #14, p-value corr: 0.0\n",
            "Browser #17, p-value corr: 0.29920481144086414\n",
            "Browser #2, p-value corr: 0.27243860419724103\n",
            "Browser #20, p-value corr: 1.0\n",
            "Browser #22, p-value corr: 1.0\n",
            "Browser #4, p-value corr: 1.0\n"
          ]
        }
      ]
    },
    {
      "cell_type": "markdown",
      "source": [
        "For each browser in each of the two groups (control and exp), we calculate the proportion of requests in which the user did not click even once. This can be done by dividing the sum of n_nonclk_queries by the sum of n_queries. Multiplying this value by 100, we get the percentage of unclicked requests, which can be more easily interpreted.\n"
      ],
      "metadata": {
        "id": "bDzxZUp4GXcE"
      }
    },
    {
      "cell_type": "code",
      "source": [
        "nonclk_exp = exp.groupby(['browser']).sum().loc[:,'n_nonclk_queries']\n",
        "clk_exp = exp.groupby(['browser']).sum().loc[:,'n_queries']\n",
        "prop_exp = nonclk_exp / clk_exp\n",
        "\n",
        "nonclk_control = control.groupby(['browser']).sum().loc[:,'n_nonclk_queries']\n",
        "clk_control = control.groupby(['browser']).sum().loc[:,'n_queries']\n",
        "prop_control = nonclk_control  / clk_control"
      ],
      "metadata": {
        "id": "Lwh8Cu1OClh3"
      },
      "execution_count": 103,
      "outputs": []
    },
    {
      "cell_type": "code",
      "source": [
        "print('Control/exp')\n",
        "for browser in browsers:\n",
        "    print(browser, prop_control.loc[prop_control.index == browser].values, prop_exp.loc[prop_exp.index == browser].values)"
      ],
      "metadata": {
        "colab": {
          "base_uri": "https://localhost:8080/"
        },
        "id": "616onlPsGwnd",
        "outputId": "2ce7b780-2e67-461b-f377-196b7c7ea7a2"
      },
      "execution_count": 108,
      "outputs": [
        {
          "output_type": "stream",
          "name": "stdout",
          "text": [
            "Control/exp\n",
            "Browser #14 [0.57590411] [0.43755617]\n",
            "Browser #17 [0.36299367] [0.36937413]\n",
            "Browser #2 [0.45962747] [0.44982747]\n",
            "Browser #20 [0.40540485] [0.38977376]\n",
            "Browser #22 [0.40593977] [0.39853947]\n",
            "Browser #4 [0.4697093] [0.45142942]\n"
          ]
        }
      ]
    },
    {
      "cell_type": "code",
      "source": [
        ""
      ],
      "metadata": {
        "id": "xDr1mPhxHIh3"
      },
      "execution_count": null,
      "outputs": []
    }
  ]
}